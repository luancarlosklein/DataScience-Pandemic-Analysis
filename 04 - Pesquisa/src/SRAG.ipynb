{
 "cells": [
  {
   "cell_type": "markdown",
   "metadata": {},
   "source": [
    "# Arquivo para gerar a filtragem dos dados de mortes do SivepGripe"
   ]
  },
  {
   "cell_type": "markdown",
   "metadata": {},
   "source": [
    "Importa as bibliotecas"
   ]
  },
  {
   "cell_type": "code",
   "execution_count": 1,
   "metadata": {},
   "outputs": [],
   "source": [
    "import pandas as pd\n",
    "import numpy as np"
   ]
  },
  {
   "cell_type": "markdown",
   "metadata": {},
   "source": [
    "Le o dataset que contem os dados, e realiza a filtragem para que contenha apenas os que são consideradas mortes por covid\n",
    "(segundo o dicionario dos dados, quando as colunas Evolucao for igual a 2, e a classificacao final igual a 5)"
   ]
  },
  {
   "cell_type": "code",
   "execution_count": 2,
   "metadata": {},
   "outputs": [
    {
     "name": "stderr",
     "output_type": "stream",
     "text": [
      "C:\\Users\\luank\\anaconda3\\lib\\site-packages\\IPython\\core\\interactiveshell.py:3063: DtypeWarning: Columns (15,18,60,62,63,64,92,94,106,108,117,121,123) have mixed types.Specify dtype option on import or set low_memory=False.\n",
      "  interactivity=interactivity, compiler=compiler, result=result)\n",
      "C:\\Users\\luank\\anaconda3\\lib\\site-packages\\ipykernel_launcher.py:4: UserWarning: Boolean Series key will be reindexed to match DataFrame index.\n",
      "  after removing the cwd from sys.path.\n"
     ]
    }
   ],
   "source": [
    "df = pd.read_csv(r'SRAGHospitalizado_2020_12_07.csv',sep=';')\n",
    "\n",
    "df_morte = df[df.EVOLUCAO == 2]\n",
    "df_morte = df_morte[df.CLASSI_FIN == 5]"
   ]
  },
  {
   "cell_type": "markdown",
   "metadata": {},
   "source": [
    "Realiza a divisão pelas idades e a seleção das colunas que serão utilizadas"
   ]
  },
  {
   "cell_type": "code",
   "execution_count": 3,
   "metadata": {},
   "outputs": [
    {
     "data": {
      "text/html": [
       "<div>\n",
       "<style scoped>\n",
       "    .dataframe tbody tr th:only-of-type {\n",
       "        vertical-align: middle;\n",
       "    }\n",
       "\n",
       "    .dataframe tbody tr th {\n",
       "        vertical-align: top;\n",
       "    }\n",
       "\n",
       "    .dataframe thead th {\n",
       "        text-align: right;\n",
       "    }\n",
       "</style>\n",
       "<table border=\"1\" class=\"dataframe\">\n",
       "  <thead>\n",
       "    <tr style=\"text-align: right;\">\n",
       "      <th></th>\n",
       "      <th>EVOLUCAO</th>\n",
       "      <th>ID_MUNICIP</th>\n",
       "      <th>CO_MUN_NOT</th>\n",
       "      <th>Idade</th>\n",
       "    </tr>\n",
       "  </thead>\n",
       "  <tbody>\n",
       "    <tr>\n",
       "      <th>30</th>\n",
       "      <td>2.0</td>\n",
       "      <td>SAO BERNARDO DO CAMPO</td>\n",
       "      <td>354870</td>\n",
       "      <td>(75, 80]</td>\n",
       "    </tr>\n",
       "    <tr>\n",
       "      <th>31</th>\n",
       "      <td>2.0</td>\n",
       "      <td>RIO DE JANEIRO</td>\n",
       "      <td>330455</td>\n",
       "      <td>(30, 35]</td>\n",
       "    </tr>\n",
       "    <tr>\n",
       "      <th>43</th>\n",
       "      <td>2.0</td>\n",
       "      <td>SAO PAULO</td>\n",
       "      <td>355030</td>\n",
       "      <td>(70, 75]</td>\n",
       "    </tr>\n",
       "    <tr>\n",
       "      <th>50</th>\n",
       "      <td>2.0</td>\n",
       "      <td>RIBEIRAO PIRES</td>\n",
       "      <td>354330</td>\n",
       "      <td>(55, 60]</td>\n",
       "    </tr>\n",
       "    <tr>\n",
       "      <th>51</th>\n",
       "      <td>2.0</td>\n",
       "      <td>ITAPECERICA DA SERRA</td>\n",
       "      <td>352220</td>\n",
       "      <td>(70, 75]</td>\n",
       "    </tr>\n",
       "    <tr>\n",
       "      <th>...</th>\n",
       "      <td>...</td>\n",
       "      <td>...</td>\n",
       "      <td>...</td>\n",
       "      <td>...</td>\n",
       "    </tr>\n",
       "    <tr>\n",
       "      <th>999936</th>\n",
       "      <td>2.0</td>\n",
       "      <td>TERESINA</td>\n",
       "      <td>221100</td>\n",
       "      <td>(55, 60]</td>\n",
       "    </tr>\n",
       "    <tr>\n",
       "      <th>999938</th>\n",
       "      <td>2.0</td>\n",
       "      <td>CAMACAN</td>\n",
       "      <td>290560</td>\n",
       "      <td>(80, 99]</td>\n",
       "    </tr>\n",
       "    <tr>\n",
       "      <th>999967</th>\n",
       "      <td>2.0</td>\n",
       "      <td>BRASILIA</td>\n",
       "      <td>530010</td>\n",
       "      <td>(75, 80]</td>\n",
       "    </tr>\n",
       "    <tr>\n",
       "      <th>999971</th>\n",
       "      <td>2.0</td>\n",
       "      <td>SAO PAULO</td>\n",
       "      <td>355030</td>\n",
       "      <td>(65, 70]</td>\n",
       "    </tr>\n",
       "    <tr>\n",
       "      <th>1000023</th>\n",
       "      <td>2.0</td>\n",
       "      <td>SAO LEOPOLDO</td>\n",
       "      <td>431870</td>\n",
       "      <td>(80, 99]</td>\n",
       "    </tr>\n",
       "  </tbody>\n",
       "</table>\n",
       "<p>170292 rows × 4 columns</p>\n",
       "</div>"
      ],
      "text/plain": [
       "         EVOLUCAO             ID_MUNICIP  CO_MUN_NOT     Idade\n",
       "30            2.0  SAO BERNARDO DO CAMPO      354870  (75, 80]\n",
       "31            2.0         RIO DE JANEIRO      330455  (30, 35]\n",
       "43            2.0              SAO PAULO      355030  (70, 75]\n",
       "50            2.0         RIBEIRAO PIRES      354330  (55, 60]\n",
       "51            2.0   ITAPECERICA DA SERRA      352220  (70, 75]\n",
       "...           ...                    ...         ...       ...\n",
       "999936        2.0               TERESINA      221100  (55, 60]\n",
       "999938        2.0                CAMACAN      290560  (80, 99]\n",
       "999967        2.0               BRASILIA      530010  (75, 80]\n",
       "999971        2.0              SAO PAULO      355030  (65, 70]\n",
       "1000023       2.0           SAO LEOPOLDO      431870  (80, 99]\n",
       "\n",
       "[170292 rows x 4 columns]"
      ]
     },
     "execution_count": 3,
     "metadata": {},
     "output_type": "execute_result"
    }
   ],
   "source": [
    "categoria = pd.cut(df.NU_IDADE_N, bins=[0,5,10,15,20,25,30,35,40,45,50,55,60,65,70,75,80,99])\n",
    "\n",
    "df_morte.insert(19, 'Idade', categoria)\n",
    "\n",
    "df_morte['Idade'].value_counts()\n",
    "df_morte = df_morte[['EVOLUCAO', 'ID_MUNICIP', 'CO_MUN_NOT', 'Idade']]\n",
    "\n",
    "df_aux = df_morte.copy()\n",
    "df_morte"
   ]
  },
  {
   "cell_type": "markdown",
   "metadata": {},
   "source": [
    "Realiza o agrupamento dos dados por municipio e por idade. Realiza o ajuste deles, e salva em um novo csv."
   ]
  },
  {
   "cell_type": "code",
   "execution_count": 4,
   "metadata": {},
   "outputs": [
    {
     "data": {
      "text/html": [
       "<div>\n",
       "<style scoped>\n",
       "    .dataframe tbody tr th:only-of-type {\n",
       "        vertical-align: middle;\n",
       "    }\n",
       "\n",
       "    .dataframe tbody tr th {\n",
       "        vertical-align: top;\n",
       "    }\n",
       "\n",
       "    .dataframe thead th {\n",
       "        text-align: right;\n",
       "    }\n",
       "</style>\n",
       "<table border=\"1\" class=\"dataframe\">\n",
       "  <thead>\n",
       "    <tr style=\"text-align: right;\">\n",
       "      <th></th>\n",
       "      <th>ID_MUNICIP</th>\n",
       "      <th>Idade</th>\n",
       "      <th>Casos</th>\n",
       "      <th>CO_MUN_NOT</th>\n",
       "    </tr>\n",
       "  </thead>\n",
       "  <tbody>\n",
       "    <tr>\n",
       "      <th>0</th>\n",
       "      <td>ABADIA DOS DOURADOS</td>\n",
       "      <td>(0, 5]</td>\n",
       "      <td>NaN</td>\n",
       "      <td>310010.0</td>\n",
       "    </tr>\n",
       "    <tr>\n",
       "      <th>1</th>\n",
       "      <td>ABADIA DOS DOURADOS</td>\n",
       "      <td>(5, 10]</td>\n",
       "      <td>NaN</td>\n",
       "      <td>310010.0</td>\n",
       "    </tr>\n",
       "    <tr>\n",
       "      <th>2</th>\n",
       "      <td>ABADIA DOS DOURADOS</td>\n",
       "      <td>(10, 15]</td>\n",
       "      <td>NaN</td>\n",
       "      <td>310010.0</td>\n",
       "    </tr>\n",
       "    <tr>\n",
       "      <th>3</th>\n",
       "      <td>ABADIA DOS DOURADOS</td>\n",
       "      <td>(15, 20]</td>\n",
       "      <td>NaN</td>\n",
       "      <td>310010.0</td>\n",
       "    </tr>\n",
       "    <tr>\n",
       "      <th>4</th>\n",
       "      <td>ABADIA DOS DOURADOS</td>\n",
       "      <td>(20, 25]</td>\n",
       "      <td>NaN</td>\n",
       "      <td>310010.0</td>\n",
       "    </tr>\n",
       "    <tr>\n",
       "      <th>...</th>\n",
       "      <td>...</td>\n",
       "      <td>...</td>\n",
       "      <td>...</td>\n",
       "      <td>...</td>\n",
       "    </tr>\n",
       "    <tr>\n",
       "      <th>39418</th>\n",
       "      <td>ZE DOCA</td>\n",
       "      <td>(60, 65]</td>\n",
       "      <td>2.0</td>\n",
       "      <td>211400.0</td>\n",
       "    </tr>\n",
       "    <tr>\n",
       "      <th>39419</th>\n",
       "      <td>ZE DOCA</td>\n",
       "      <td>(65, 70]</td>\n",
       "      <td>3.0</td>\n",
       "      <td>211400.0</td>\n",
       "    </tr>\n",
       "    <tr>\n",
       "      <th>39420</th>\n",
       "      <td>ZE DOCA</td>\n",
       "      <td>(70, 75]</td>\n",
       "      <td>5.0</td>\n",
       "      <td>211400.0</td>\n",
       "    </tr>\n",
       "    <tr>\n",
       "      <th>39421</th>\n",
       "      <td>ZE DOCA</td>\n",
       "      <td>(75, 80]</td>\n",
       "      <td>3.0</td>\n",
       "      <td>211400.0</td>\n",
       "    </tr>\n",
       "    <tr>\n",
       "      <th>39422</th>\n",
       "      <td>ZE DOCA</td>\n",
       "      <td>(80, 99]</td>\n",
       "      <td>9.0</td>\n",
       "      <td>211400.0</td>\n",
       "    </tr>\n",
       "  </tbody>\n",
       "</table>\n",
       "<p>39423 rows × 4 columns</p>\n",
       "</div>"
      ],
      "text/plain": [
       "                ID_MUNICIP     Idade  Casos  CO_MUN_NOT\n",
       "0      ABADIA DOS DOURADOS    (0, 5]    NaN    310010.0\n",
       "1      ABADIA DOS DOURADOS   (5, 10]    NaN    310010.0\n",
       "2      ABADIA DOS DOURADOS  (10, 15]    NaN    310010.0\n",
       "3      ABADIA DOS DOURADOS  (15, 20]    NaN    310010.0\n",
       "4      ABADIA DOS DOURADOS  (20, 25]    NaN    310010.0\n",
       "...                    ...       ...    ...         ...\n",
       "39418              ZE DOCA  (60, 65]    2.0    211400.0\n",
       "39419              ZE DOCA  (65, 70]    3.0    211400.0\n",
       "39420              ZE DOCA  (70, 75]    5.0    211400.0\n",
       "39421              ZE DOCA  (75, 80]    3.0    211400.0\n",
       "39422              ZE DOCA  (80, 99]    9.0    211400.0\n",
       "\n",
       "[39423 rows x 4 columns]"
      ]
     },
     "execution_count": 4,
     "metadata": {},
     "output_type": "execute_result"
    }
   ],
   "source": [
    "df_morte = df_morte.groupby([df_morte['ID_MUNICIP'], df_morte['Idade']]).count()\n",
    "df_morte = df_morte.reset_index()\n",
    "\n",
    "t = 'ZE DOCA'\n",
    "\n",
    "df_aux.loc[df_aux['ID_MUNICIP'] == t, 'CO_MUN_NOT'].iloc[0]\n",
    "\n",
    "\n",
    "for index, row in df_morte.iterrows():\n",
    "    cid = row['ID_MUNICIP']\n",
    "    cod = int(df_aux.loc[df_aux['ID_MUNICIP'] == cid, 'CO_MUN_NOT'].iloc[0])\n",
    "    df_morte.at[index,'CO_MUN_NOT'] = int(cod)\n",
    "\n",
    "df_morte = df_morte.replace(np.nan, 0)\n",
    "df_morte = df_morte.rename(columns = {df_morte.columns[2]: 'Casos'})\n",
    "\n",
    "df_morte.to_csv(r'mortes_idade.csv')\n",
    "df_morte"
   ]
  },
  {
   "cell_type": "code",
   "execution_count": 5,
   "metadata": {},
   "outputs": [
    {
     "data": {
      "text/html": [
       "<div>\n",
       "<style scoped>\n",
       "    .dataframe tbody tr th:only-of-type {\n",
       "        vertical-align: middle;\n",
       "    }\n",
       "\n",
       "    .dataframe tbody tr th {\n",
       "        vertical-align: top;\n",
       "    }\n",
       "\n",
       "    .dataframe thead th {\n",
       "        text-align: right;\n",
       "    }\n",
       "</style>\n",
       "<table border=\"1\" class=\"dataframe\">\n",
       "  <thead>\n",
       "    <tr style=\"text-align: right;\">\n",
       "      <th></th>\n",
       "      <th>ID_MUNICIP</th>\n",
       "      <th>Idade</th>\n",
       "      <th>Casos</th>\n",
       "      <th>CO_MUN_NOT</th>\n",
       "    </tr>\n",
       "  </thead>\n",
       "  <tbody>\n",
       "  </tbody>\n",
       "</table>\n",
       "</div>"
      ],
      "text/plain": [
       "Empty DataFrame\n",
       "Columns: [ID_MUNICIP, Idade, Casos, CO_MUN_NOT]\n",
       "Index: []"
      ]
     },
     "execution_count": 5,
     "metadata": {},
     "output_type": "execute_result"
    }
   ],
   "source": [
    "df_morte[df_morte['ID_MUNICIP'] == 'Rio de Janeiro']"
   ]
  },
  {
   "cell_type": "code",
   "execution_count": 8,
   "metadata": {},
   "outputs": [],
   "source": []
  },
  {
   "cell_type": "code",
   "execution_count": null,
   "metadata": {},
   "outputs": [],
   "source": []
  }
 ],
 "metadata": {
  "kernelspec": {
   "display_name": "Python 3",
   "language": "python",
   "name": "python3"
  },
  "language_info": {
   "codemirror_mode": {
    "name": "ipython",
    "version": 3
   },
   "file_extension": ".py",
   "mimetype": "text/x-python",
   "name": "python",
   "nbconvert_exporter": "python",
   "pygments_lexer": "ipython3",
   "version": "3.7.6"
  }
 },
 "nbformat": 4,
 "nbformat_minor": 2
}
